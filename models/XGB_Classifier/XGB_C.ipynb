{
 "cells": [
  {
   "cell_type": "code",
   "execution_count": null,
   "metadata": {},
   "outputs": [],
   "source": [
    "# imports\n",
    "import numpy as np\n",
    "from sklearn.model_selection import train_test_split\n",
    "from sklearn.metrics import accuracy_score, confusion_matrix\n",
    "from sklearn.model_selection import train_test_split\n",
    "from sklearn.metrics import accuracy_score, classification_report\n",
    "import matplotlib.pyplot as plt\n",
    "from sklearn.metrics import confusion_matrix\n",
    "from sklearn.preprocessing import label_binarize\n",
    "from xgboost import XGBClassifier\n",
    "import seaborn as sns\n",
    "from imblearn.over_sampling import SMOTE"
   ]
  },
  {
   "cell_type": "code",
   "execution_count": null,
   "metadata": {},
   "outputs": [],
   "source": [
    "data = np.load('X-y.npz')\n",
    "X = data['X']\n",
    "y = data['y']\n",
    "\n",
    "X_train, X_val, y_train, y_val = train_test_split(X, y, test_size=0.2, random_state=17)\n",
    "\n",
    "# SMOTE to balance my dataset\n",
    "smote = SMOTE(random_state=42)\n",
    "x_sm, y_sm = smote.fit_resample(X_train, y_train)\n",
    "\n",
    "X_train = np.concatenate((X_train, x_sm), axis = 0)\n",
    "y_train = np.concatenate((y_train, y_sm), axis = 0)"
   ]
  },
  {
   "cell_type": "code",
   "execution_count": null,
   "metadata": {},
   "outputs": [],
   "source": [
    "# Initialize the XGBClassifier for multi-class classification\n",
    "# 'multi:softprob' outputs the predicted probability of each data point belonging to each class.\n",
    "from sklearn.utils.class_weight import compute_sample_weight\n",
    "weights = compute_sample_weight(class_weight='balanced', y=y_train)\n",
    "\n",
    "xgb_classifier = XGBClassifier(objective='multi:softprob', num_class=3, gamma=1)\n",
    "\n",
    "# Fit the classifier to the training data\n",
    "xgb_classifier.fit(X_train, y_train, sample_weight=weights)\n",
    "\n",
    "# Predict the classes for the test data\n",
    "\n",
    "y_predict = xgb_classifier.predict(X_val)\n",
    "\n",
    "#evaluate the classifier\n",
    "accuracy = accuracy_score(y_val, y_predict)\n",
    "print(\"Accuracy: \", accuracy)\n",
    "print(\"\\nClassification Report:\\n\", classification_report(y_val, y_predict))\n",
    "\n",
    "# hyperparameter tuning on xgboost using a validation set\n",
    "\n",
    "# Assuming y_test and y_predict are your true labels and predictions\n",
    "# For multi-class classification, you need to binarize the labels for ROC and Precision-Recall curves\n",
    "n_classes = 3  # Number of classes\n",
    "y_test_binarized = label_binarize(y_val, classes=[0, 1, 2])\n",
    "y_predict_binarized = label_binarize(y_predict, classes=[0, 1, 2])\n",
    "\n",
    "# Plotting the confusion matrix\n",
    "cm = confusion_matrix(y_val, y_predict)\n",
    "plt.figure(figsize=(8, 6))\n",
    "sns.heatmap(cm, annot=True, fmt='g')\n",
    "plt.title('Confusion Matrix')\n",
    "plt.xlabel('Predicted label')\n",
    "plt.ylabel('True label')\n",
    "plt.show()"
   ]
  }
 ],
 "metadata": {
  "kernelspec": {
   "display_name": "Python 3",
   "language": "python",
   "name": "python3"
  },
  "language_info": {
   "codemirror_mode": {
    "name": "ipython",
    "version": 3
   },
   "file_extension": ".py",
   "mimetype": "text/x-python",
   "name": "python",
   "nbconvert_exporter": "python",
   "pygments_lexer": "ipython3",
   "version": "3.11.3"
  }
 },
 "nbformat": 4,
 "nbformat_minor": 2
}
