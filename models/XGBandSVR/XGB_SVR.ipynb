{
 "cells": [
  {
   "cell_type": "code",
   "execution_count": null,
   "metadata": {},
   "outputs": [],
   "source": [
    "# imports\n",
    "import numpy as np\n",
    "from sklearn.model_selection import train_test_split\n",
    "from sklearn.metrics import accuracy_score\n",
    "from sklearn.model_selection import train_test_split\n",
    "from sklearn.metrics import accuracy_score\n",
    "from imblearn.over_sampling import SMOTE\n",
    "from sklearn.svm import SVR\n",
    "import xgboost as xgb\n",
    "from sklearn.metrics import mean_absolute_error\n",
    "from scipy.stats import kendalltau\n",
    "from scipy.stats import pearsonr\n",
    "from sklearn.metrics import ndcg_score\n",
    "import scipy.stats\n"
   ]
  },
  {
   "cell_type": "code",
   "execution_count": null,
   "metadata": {},
   "outputs": [],
   "source": [
    "data = np.load('X-y.npz')\n",
    "X = data['X']\n",
    "y = data['y']\n",
    "\n",
    "X_train, X_val, y_train, y_val = train_test_split(X, y, test_size=0.2, random_state=17)\n",
    "\n",
    "# SMOTE to balance my dataset\n",
    "smote = SMOTE(random_state=42)\n",
    "x_sm, y_sm = smote.fit_resample(X_train, y_train)\n",
    "\n",
    "X_train = np.concatenate((X_train, x_sm), axis = 0)\n",
    "y_train = np.concatenate((y_train, y_sm), axis = 0)"
   ]
  },
  {
   "cell_type": "code",
   "execution_count": null,
   "metadata": {},
   "outputs": [],
   "source": [
    "svr = SVR(kernel='rbf', C=0.5, epsilon=0.2)\n",
    "svr.fit(X_train, y_train)\n",
    "y_pred_svr = svr.predict(X_val)\n",
    "\n",
    "xgb_regressor = xgb.XGBRegressor()\n",
    "xgb_regressor.fit(X_train, y_train)\n",
    "y_pred_xgb = xgb_regressor.predict(X_val)\n",
    "\n",
    "combined_prediction = (y_pred_svr + y_pred_xgb) / 2\n",
    "\n",
    "print(\"\\n\")\n",
    "print(\"actual: \", [ (num, '%.2f' % elem) for num, elem in enumerate(y_val) ])\n",
    "print(\"predic: \", [ (num, '%.2f' % elem) for num, elem in enumerate(combined_prediction) ])\n",
    "print(\"mean absolute error: \", mean_absolute_error(y_val, combined_prediction))\n",
    "print(\"mean squared error: \", np.mean((y_val - combined_prediction)**2))\n",
    "\n",
    "rounded_test = [round(y) for y in y_val]\n",
    "rounded_predict = [round(y) for y in combined_prediction]\n",
    "accuracyscore = accuracy_score(rounded_test, rounded_predict)\n",
    "print(\"\\n\")\n",
    "print(\"accuracy score: \", accuracyscore)\n",
    "print(\"actual: \", rounded_test)\n",
    "print(\"predic: \", rounded_predict)"
   ]
  },
  {
   "cell_type": "code",
   "execution_count": null,
   "metadata": {},
   "outputs": [],
   "source": [
    "true_scores = np.array(y_val)\n",
    "true_scores_sorted_indices = np.argsort(true_scores)\n",
    "\n",
    "# now for xgboost regression + support vector regression\n",
    "svr_scores = svr.predict(X_val)\n",
    "xgboost_scores = xgb_regressor.predict(X_val)\n",
    "combined_scores = (svr_scores + xgboost_scores) / 2\n",
    "xgboost_svr_scores_sorted_indices = np.argsort(combined_scores)\n",
    "tau_xg, p_value_xg = kendalltau(xgboost_svr_scores_sorted_indices, true_scores_sorted_indices)\n",
    "print(\"\\nxgboost and support vector regression classifier kendall tau: \", tau_xg, \"xgboost and support vector regression classifier p_value: \", p_value_xg)\n",
    "correlation, _ = pearsonr(combined_scores, true_scores)\n",
    "ndcg = ndcg_score(np.array([combined_scores]), np.array([true_scores]))\n",
    "ndcg_k10 = ndcg_score(np.array([combined_scores]), np.array([true_scores]), k = 10)\n",
    "rev_ndcg_k10 = ndcg_score((1 / np.array([combined_scores])), (1 / np.array([true_scores])), k = 10)\n",
    "print(\"xgboost and support vector regression classifier pearson correlation: \", correlation)\n",
    "print(\"xgboost and support vector regression classifier ndcg: \", ndcg)\n",
    "print(\"ndcg @ k = 10: \", ndcg_k10)\n",
    "print(\"reverse ndcg @ k = 10: \", rev_ndcg_k10)"
   ]
  }
 ],
 "metadata": {
  "kernelspec": {
   "display_name": "Python 3",
   "language": "python",
   "name": "python3"
  },
  "language_info": {
   "codemirror_mode": {
    "name": "ipython",
    "version": 3
   },
   "file_extension": ".py",
   "mimetype": "text/x-python",
   "name": "python",
   "nbconvert_exporter": "python",
   "pygments_lexer": "ipython3",
   "version": "3.11.3"
  }
 },
 "nbformat": 4,
 "nbformat_minor": 2
}
